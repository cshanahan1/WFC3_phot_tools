{
 "cells": [
  {
   "cell_type": "code",
   "execution_count": 5,
   "metadata": {},
   "outputs": [
    {
     "name": "stdout",
     "output_type": "stream",
     "text": [
      "The autoreload extension is already loaded. To reload it, use:\n",
      "  %reload_ext autoreload\n"
     ]
    }
   ],
   "source": [
    "%load_ext autoreload\n",
    "%autoreload 2\n",
    "from get_wfc3_data_astroquery import query_by_propid_targ_filter  "
   ]
  },
  {
   "cell_type": "code",
   "execution_count": 7,
   "metadata": {},
   "outputs": [
    {
     "name": "stdout",
     "output_type": "stream",
     "text": [
      "<class 'list'>\n",
      "<class 'list'>\n",
      "Querying for data from 15583.\n",
      "225 records found\n",
      "225 total records found.\n"
     ]
    },
    {
     "data": {
      "text/html": [
       "<i>Table masked=True length=225</i>\n",
       "<table id=\"table4811467728\" class=\"table-striped table-bordered table-condensed\">\n",
       "<thead><tr><th>obsID</th><th>obs_collection</th><th>dataproduct_type</th><th>obs_id</th><th>description</th><th>type</th><th>dataURI</th><th>productType</th><th>productGroupDescription</th><th>productSubGroupDescription</th><th>productDocumentationURL</th><th>project</th><th>prvversion</th><th>proposal_id</th><th>productFilename</th><th>size</th><th>parent_obsid</th><th>dataRights</th></tr></thead>\n",
       "<thead><tr><th>str10</th><th>str3</th><th>str8</th><th>str9</th><th>str64</th><th>str1</th><th>str40</th><th>str9</th><th>str28</th><th>str8</th><th>str1</th><th>str6</th><th>str18</th><th>str5</th><th>str23</th><th>int64</th><th>str10</th><th>str6</th></tr></thead>\n",
       "<tr><td>2008091269</td><td>HST</td><td>image</td><td>idx502o8q</td><td>DADS FLC file - CTE-corrected calibrated exposure ACS/WFC3</td><td>S</td><td>mast:HST/product/idx502o8q_flc.fits</td><td>SCIENCE</td><td>--</td><td>FLC</td><td>--</td><td>CALWF3</td><td>3.5.0(Oct-09-2018)</td><td>15583</td><td>idx502o8q_flc.fits</td><td>2793600</td><td>2008091279</td><td>PUBLIC</td></tr>\n",
       "<tr><td>2008091266</td><td>HST</td><td>image</td><td>idx502o9q</td><td>DADS FLC file - CTE-corrected calibrated exposure ACS/WFC3</td><td>S</td><td>mast:HST/product/idx502o9q_flc.fits</td><td>SCIENCE</td><td>--</td><td>FLC</td><td>--</td><td>CALWF3</td><td>3.5.0(Oct-09-2018)</td><td>15583</td><td>idx502o9q_flc.fits</td><td>2862720</td><td>2008091273</td><td>PUBLIC</td></tr>\n",
       "<tr><td>2008091251</td><td>HST</td><td>image</td><td>idx502oaq</td><td>DADS FLC file - CTE-corrected calibrated exposure ACS/WFC3</td><td>S</td><td>mast:HST/product/idx502oaq_flc.fits</td><td>SCIENCE</td><td>--</td><td>FLC</td><td>--</td><td>CALWF3</td><td>3.5.0(Oct-09-2018)</td><td>15583</td><td>idx502oaq_flc.fits</td><td>2862720</td><td>2008091330</td><td>PUBLIC</td></tr>\n",
       "<tr><td>2008091282</td><td>HST</td><td>image</td><td>idx502obq</td><td>DADS FLC file - CTE-corrected calibrated exposure ACS/WFC3</td><td>S</td><td>mast:HST/product/idx502obq_flc.fits</td><td>SCIENCE</td><td>--</td><td>FLC</td><td>--</td><td>CALWF3</td><td>3.5.0(Oct-09-2018)</td><td>15583</td><td>idx502obq_flc.fits</td><td>2862720</td><td>2008091331</td><td>PUBLIC</td></tr>\n",
       "<tr><td>2008091272</td><td>HST</td><td>image</td><td>idx502ocq</td><td>DADS FLC file - CTE-corrected calibrated exposure ACS/WFC3</td><td>S</td><td>mast:HST/product/idx502ocq_flc.fits</td><td>SCIENCE</td><td>--</td><td>FLC</td><td>--</td><td>CALWF3</td><td>3.5.0(Oct-09-2018)</td><td>15583</td><td>idx502ocq_flc.fits</td><td>2793600</td><td>2008091279</td><td>PUBLIC</td></tr>\n",
       "<tr><td>2008091249</td><td>HST</td><td>image</td><td>idx502odq</td><td>DADS FLC file - CTE-corrected calibrated exposure ACS/WFC3</td><td>S</td><td>mast:HST/product/idx502odq_flc.fits</td><td>SCIENCE</td><td>--</td><td>FLC</td><td>--</td><td>CALWF3</td><td>3.5.0(Oct-09-2018)</td><td>15583</td><td>idx502odq_flc.fits</td><td>2862720</td><td>2008091273</td><td>PUBLIC</td></tr>\n",
       "<tr><td>2008091270</td><td>HST</td><td>image</td><td>idx502oeq</td><td>DADS FLC file - CTE-corrected calibrated exposure ACS/WFC3</td><td>S</td><td>mast:HST/product/idx502oeq_flc.fits</td><td>SCIENCE</td><td>--</td><td>FLC</td><td>--</td><td>CALWF3</td><td>3.5.0(Oct-09-2018)</td><td>15583</td><td>idx502oeq_flc.fits</td><td>2862720</td><td>2008091330</td><td>PUBLIC</td></tr>\n",
       "<tr><td>2008091278</td><td>HST</td><td>image</td><td>idx502ofq</td><td>DADS FLC file - CTE-corrected calibrated exposure ACS/WFC3</td><td>S</td><td>mast:HST/product/idx502ofq_flc.fits</td><td>SCIENCE</td><td>--</td><td>FLC</td><td>--</td><td>CALWF3</td><td>3.5.0(Oct-09-2018)</td><td>15583</td><td>idx502ofq_flc.fits</td><td>2862720</td><td>2008091331</td><td>PUBLIC</td></tr>\n",
       "<tr><td>2008091237</td><td>HST</td><td>image</td><td>idx502ogq</td><td>DADS FLC file - CTE-corrected calibrated exposure ACS/WFC3</td><td>S</td><td>mast:HST/product/idx502ogq_flc.fits</td><td>SCIENCE</td><td>Minimum Recommended Products</td><td>FLC</td><td>--</td><td>CALWF3</td><td>3.5.0(Oct-09-2018)</td><td>15583</td><td>idx502ogq_flc.fits</td><td>2862720</td><td>2008091237</td><td>PUBLIC</td></tr>\n",
       "<tr><td>2008091244</td><td>HST</td><td>image</td><td>idx502ohq</td><td>DADS FLC file - CTE-corrected calibrated exposure ACS/WFC3</td><td>S</td><td>mast:HST/product/idx502ohq_flc.fits</td><td>SCIENCE</td><td>Minimum Recommended Products</td><td>FLC</td><td>--</td><td>CALWF3</td><td>3.5.0(Oct-09-2018)</td><td>15583</td><td>idx502ohq_flc.fits</td><td>2862720</td><td>2008091244</td><td>PUBLIC</td></tr>\n",
       "<tr><td>...</td><td>...</td><td>...</td><td>...</td><td>...</td><td>...</td><td>...</td><td>...</td><td>...</td><td>...</td><td>...</td><td>...</td><td>...</td><td>...</td><td>...</td><td>...</td><td>...</td><td>...</td></tr>\n",
       "<tr><td>2008100612</td><td>HST</td><td>image</td><td>idx5a7o8q</td><td>DADS FLC file - CTE-corrected calibrated exposure ACS/WFC3</td><td>S</td><td>mast:HST/product/idx5a7o8q_flc.fits</td><td>SCIENCE</td><td>Minimum Recommended Products</td><td>FLC</td><td>--</td><td>CALWF3</td><td>3.5.0(Oct-09-2018)</td><td>15583</td><td>idx5a7o8q_flc.fits</td><td>2862720</td><td>2008100612</td><td>PUBLIC</td></tr>\n",
       "<tr><td>2008100590</td><td>HST</td><td>image</td><td>idx5a7o9q</td><td>DADS FLC file - CTE-corrected calibrated exposure ACS/WFC3</td><td>S</td><td>mast:HST/product/idx5a7o9q_flc.fits</td><td>SCIENCE</td><td>Minimum Recommended Products</td><td>FLC</td><td>--</td><td>CALWF3</td><td>3.5.0(Oct-09-2018)</td><td>15583</td><td>idx5a7o9q_flc.fits</td><td>2862720</td><td>2008100590</td><td>PUBLIC</td></tr>\n",
       "<tr><td>2008100596</td><td>HST</td><td>image</td><td>idx5a7oaq</td><td>DADS FLC file - CTE-corrected calibrated exposure ACS/WFC3</td><td>S</td><td>mast:HST/product/idx5a7oaq_flc.fits</td><td>SCIENCE</td><td>Minimum Recommended Products</td><td>FLC</td><td>--</td><td>CALWF3</td><td>3.5.0(Oct-09-2018)</td><td>15583</td><td>idx5a7oaq_flc.fits</td><td>2862720</td><td>2008100596</td><td>PUBLIC</td></tr>\n",
       "<tr><td>2008100606</td><td>HST</td><td>image</td><td>idx5a7obq</td><td>DADS FLC file - CTE-corrected calibrated exposure ACS/WFC3</td><td>S</td><td>mast:HST/product/idx5a7obq_flc.fits</td><td>SCIENCE</td><td>Minimum Recommended Products</td><td>FLC</td><td>--</td><td>CALWF3</td><td>3.5.0(Oct-09-2018)</td><td>15583</td><td>idx5a7obq_flc.fits</td><td>2793600</td><td>2008100606</td><td>PUBLIC</td></tr>\n",
       "<tr><td>2008100604</td><td>HST</td><td>image</td><td>idx5a7ocq</td><td>DADS FLC file - CTE-corrected calibrated exposure ACS/WFC3</td><td>S</td><td>mast:HST/product/idx5a7ocq_flc.fits</td><td>SCIENCE</td><td>Minimum Recommended Products</td><td>FLC</td><td>--</td><td>CALWF3</td><td>3.5.0(Oct-09-2018)</td><td>15583</td><td>idx5a7ocq_flc.fits</td><td>2862720</td><td>2008100604</td><td>PUBLIC</td></tr>\n",
       "<tr><td>2008100585</td><td>HST</td><td>image</td><td>idx5a7odq</td><td>DADS FLC file - CTE-corrected calibrated exposure ACS/WFC3</td><td>S</td><td>mast:HST/product/idx5a7odq_flc.fits</td><td>SCIENCE</td><td>Minimum Recommended Products</td><td>FLC</td><td>--</td><td>CALWF3</td><td>3.5.0(Oct-09-2018)</td><td>15583</td><td>idx5a7odq_flc.fits</td><td>2862720</td><td>2008100585</td><td>PUBLIC</td></tr>\n",
       "<tr><td>2008100598</td><td>HST</td><td>image</td><td>idx5a7oeq</td><td>DADS FLC file - CTE-corrected calibrated exposure ACS/WFC3</td><td>S</td><td>mast:HST/product/idx5a7oeq_flc.fits</td><td>SCIENCE</td><td>Minimum Recommended Products</td><td>FLC</td><td>--</td><td>CALWF3</td><td>3.5.0(Oct-09-2018)</td><td>15583</td><td>idx5a7oeq_flc.fits</td><td>2862720</td><td>2008100598</td><td>PUBLIC</td></tr>\n",
       "<tr><td>2008100605</td><td>HST</td><td>image</td><td>idx5a7ofq</td><td>DADS FLC file - CTE-corrected calibrated exposure ACS/WFC3</td><td>S</td><td>mast:HST/product/idx5a7ofq_flc.fits</td><td>SCIENCE</td><td>Minimum Recommended Products</td><td>FLC</td><td>--</td><td>CALWF3</td><td>3.5.0(Oct-09-2018)</td><td>15583</td><td>idx5a7ofq_flc.fits</td><td>2862720</td><td>2008100605</td><td>PUBLIC</td></tr>\n",
       "<tr><td>2008100583</td><td>HST</td><td>image</td><td>idx5a7ogq</td><td>DADS FLC file - CTE-corrected calibrated exposure ACS/WFC3</td><td>S</td><td>mast:HST/product/idx5a7ogq_flc.fits</td><td>SCIENCE</td><td>Minimum Recommended Products</td><td>FLC</td><td>--</td><td>CALWF3</td><td>3.5.0(Oct-09-2018)</td><td>15583</td><td>idx5a7ogq_flc.fits</td><td>2862720</td><td>2008100583</td><td>PUBLIC</td></tr>\n",
       "<tr><td>2008100597</td><td>HST</td><td>image</td><td>idx5a7ohq</td><td>DADS FLC file - CTE-corrected calibrated exposure ACS/WFC3</td><td>S</td><td>mast:HST/product/idx5a7ohq_flc.fits</td><td>SCIENCE</td><td>Minimum Recommended Products</td><td>FLC</td><td>--</td><td>CALWF3</td><td>3.5.0(Oct-09-2018)</td><td>15583</td><td>idx5a7ohq_flc.fits</td><td>2862720</td><td>2008100597</td><td>PUBLIC</td></tr>\n",
       "</table>"
      ],
      "text/plain": [
       "<Table masked=True length=225>\n",
       "  obsID    obs_collection dataproduct_type ...   size  parent_obsid dataRights\n",
       "  str10         str3            str8       ...  int64     str10        str6   \n",
       "---------- -------------- ---------------- ... ------- ------------ ----------\n",
       "2008091269            HST            image ... 2793600   2008091279     PUBLIC\n",
       "2008091266            HST            image ... 2862720   2008091273     PUBLIC\n",
       "2008091251            HST            image ... 2862720   2008091330     PUBLIC\n",
       "2008091282            HST            image ... 2862720   2008091331     PUBLIC\n",
       "2008091272            HST            image ... 2793600   2008091279     PUBLIC\n",
       "2008091249            HST            image ... 2862720   2008091273     PUBLIC\n",
       "2008091270            HST            image ... 2862720   2008091330     PUBLIC\n",
       "2008091278            HST            image ... 2862720   2008091331     PUBLIC\n",
       "2008091237            HST            image ... 2862720   2008091237     PUBLIC\n",
       "2008091244            HST            image ... 2862720   2008091244     PUBLIC\n",
       "       ...            ...              ... ...     ...          ...        ...\n",
       "2008100612            HST            image ... 2862720   2008100612     PUBLIC\n",
       "2008100590            HST            image ... 2862720   2008100590     PUBLIC\n",
       "2008100596            HST            image ... 2862720   2008100596     PUBLIC\n",
       "2008100606            HST            image ... 2793600   2008100606     PUBLIC\n",
       "2008100604            HST            image ... 2862720   2008100604     PUBLIC\n",
       "2008100585            HST            image ... 2862720   2008100585     PUBLIC\n",
       "2008100598            HST            image ... 2862720   2008100598     PUBLIC\n",
       "2008100605            HST            image ... 2862720   2008100605     PUBLIC\n",
       "2008100583            HST            image ... 2862720   2008100583     PUBLIC\n",
       "2008100597            HST            image ... 2862720   2008100597     PUBLIC"
      ]
     },
     "execution_count": 7,
     "metadata": {},
     "output_type": "execute_result"
    }
   ],
   "source": [
    "query_by_propid_targ_filter('15583', 'GD153', 'flc')   "
   ]
  },
  {
   "cell_type": "code",
   "execution_count": null,
   "metadata": {},
   "outputs": [],
   "source": []
  }
 ],
 "metadata": {
  "kernelspec": {
   "display_name": "Python 3",
   "language": "python",
   "name": "python3"
  },
  "language_info": {
   "codemirror_mode": {
    "name": "ipython",
    "version": 3
   },
   "file_extension": ".py",
   "mimetype": "text/x-python",
   "name": "python",
   "nbconvert_exporter": "python",
   "pygments_lexer": "ipython3",
   "version": "3.7.5"
  }
 },
 "nbformat": 4,
 "nbformat_minor": 2
}
